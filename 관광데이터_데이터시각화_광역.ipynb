{
 "cells": [
  {
   "cell_type": "markdown",
   "id": "642e823f",
   "metadata": {},
   "source": [
    "### 지역별 관광데이터 살펴보기_광역\n",
    "- 공공데이터 오픈 API 활용\n",
    "- 서울, 인천, 경기 지역만 필터링\n",
    "- 관광객은 외지인, 외국인 으로 가정하기\n",
    "- 내 담당 날짜 :20200101-20201231 "
   ]
  },
  {
   "cell_type": "markdown",
   "id": "3b061275",
   "metadata": {},
   "source": [
    "필요 모듈 다운로드"
   ]
  },
  {
   "cell_type": "code",
   "execution_count": 11,
   "id": "c9d49494",
   "metadata": {},
   "outputs": [
    {
     "name": "stdout",
     "output_type": "stream",
     "text": [
      "Requirement already satisfied: requests in c:\\users\\sju02\\appdata\\local\\programs\\python\\python310\\lib\\site-packages (2.28.1)\n",
      "Requirement already satisfied: idna<4,>=2.5 in c:\\users\\sju02\\appdata\\local\\programs\\python\\python310\\lib\\site-packages (from requests) (3.3)\n",
      "Requirement already satisfied: certifi>=2017.4.17 in c:\\users\\sju02\\appdata\\local\\programs\\python\\python310\\lib\\site-packages (from requests) (2022.6.15)\n",
      "Requirement already satisfied: charset-normalizer<3,>=2 in c:\\users\\sju02\\appdata\\local\\programs\\python\\python310\\lib\\site-packages (from requests) (2.1.0)\n",
      "Requirement already satisfied: urllib3<1.27,>=1.21.1 in c:\\users\\sju02\\appdata\\local\\programs\\python\\python310\\lib\\site-packages (from requests) (1.26.11)\n",
      "Note: you may need to restart the kernel to use updated packages.\n"
     ]
    },
    {
     "name": "stderr",
     "output_type": "stream",
     "text": [
      "WARNING: You are using pip version 22.0.4; however, version 22.2.2 is available.\n",
      "You should consider upgrading via the 'c:\\Users\\sju02\\AppData\\Local\\Programs\\Python\\Python310\\python.exe -m pip install --upgrade pip' command.\n"
     ]
    }
   ],
   "source": [
    "pip install requests"
   ]
  },
  {
   "cell_type": "code",
   "execution_count": 12,
   "id": "9563ed1f",
   "metadata": {},
   "outputs": [],
   "source": [
    "import requests\n",
    "from bs4 import BeautifulSoup\n",
    "import pandas as pd"
   ]
  },
  {
   "cell_type": "markdown",
   "id": "73d956b3",
   "metadata": {},
   "source": [
    "#### 1.오픈API 활용"
   ]
  },
  {
   "cell_type": "code",
   "execution_count": 13,
   "id": "826276ae",
   "metadata": {},
   "outputs": [],
   "source": [
    "k='XtYWixmqX0vI2cKJSegeWtyEi9VruhGYOsi3GtUXDfIRIvJJa79BHlo4zukDQ%2BJMJS88CeCDtIKimAbrDSyM0Q%3D%3D'"
   ]
  },
  {
   "cell_type": "code",
   "execution_count": 14,
   "id": "96c35f63",
   "metadata": {},
   "outputs": [],
   "source": [
    "m_os='ETC'\n",
    "m_ap='AppTest'"
   ]
  },
  {
   "cell_type": "code",
   "execution_count": 15,
   "id": "9fb77245",
   "metadata": {},
   "outputs": [
    {
     "data": {
      "text/plain": [
       "'http://api.visitkorea.or.kr/openapi/service/rest/DataLabService/metcoRegnVisitrDDList?ServiceKey=XtYWixmqX0vI2cKJSegeWtyEi9VruhGYOsi3GtUXDfIRIvJJa79BHlo4zukDQ%2BJMJS88CeCDtIKimAbrDSyM0Q%3D%3D&pageNo=1&numOfRows=20000&MobileOS=ETC&MobileApp=AppTest&startYmd=20200101&endYmd=20201231'"
      ]
     },
     "execution_count": 15,
     "metadata": {},
     "output_type": "execute_result"
    }
   ],
   "source": [
    "# 요청 URL\n",
    "endpoint = 'http://api.visitkorea.or.kr/openapi/service/rest/DataLabService/metcoRegnVisitrDDList?'\n",
    "skey = 'ServiceKey='+ k\n",
    "param = '&pageNo='+str(1)+'&numOfRows='+str(20000)+'&MobileOS='+m_os+'&MobileApp='+m_ap+'&startYmd='+str(20200101)+'&endYmd='+str(20201231)\n",
    "\n",
    "url = endpoint+skey+param\n",
    "url"
   ]
  },
  {
   "cell_type": "code",
   "execution_count": 16,
   "id": "173b8e04",
   "metadata": {},
   "outputs": [],
   "source": [
    "result = requests.get(url)"
   ]
  },
  {
   "cell_type": "markdown",
   "id": "73d956b3",
   "metadata": {},
   "source": [
    "#### 1.데이터 살펴보기\n"
   ]
  },
  {
   "cell_type": "code",
   "execution_count": 17,
   "id": "dcb7b19a",
   "metadata": {},
   "outputs": [],
   "source": [
    "# result.content"
   ]
  },
  {
   "cell_type": "code",
   "execution_count": 18,
   "id": "6ad1914a",
   "metadata": {},
   "outputs": [
    {
     "name": "stderr",
     "output_type": "stream",
     "text": [
      "c:\\Users\\sju02\\AppData\\Local\\Programs\\Python\\Python310\\lib\\site-packages\\bs4\\builder\\__init__.py:545: XMLParsedAsHTMLWarning: It looks like you're parsing an XML document using an HTML parser. If this really is an HTML document (maybe it's XHTML?), you can ignore or filter this warning. If it's XML, you should know that using an XML parser will be more reliable. To parse this document as XML, make sure you have the lxml package installed, and pass the keyword argument `features=\"xml\"` into the BeautifulSoup constructor.\n",
      "  warnings.warn(\n"
     ]
    }
   ],
   "source": [
    "bs_obj = BeautifulSoup(result.content, \"html.parser\")\n",
    "# bs_obj"
   ]
  },
  {
   "cell_type": "code",
   "execution_count": 19,
   "id": "967c3076",
   "metadata": {},
   "outputs": [
    {
     "data": {
      "text/plain": [
       "18666"
      ]
     },
     "execution_count": 19,
     "metadata": {},
     "output_type": "execute_result"
    }
   ],
   "source": [
    "#데이터 길이 추출\n",
    "items= bs_obj.findAll('item')\n",
    "len(items)"
   ]
  },
  {
   "cell_type": "markdown",
   "id": "73d956b3",
   "metadata": {},
   "source": [
    "#### 3.데이터 프레임 생성\n"
   ]
  },
  {
   "cell_type": "code",
   "execution_count": 20,
   "id": "b121eb93",
   "metadata": {},
   "outputs": [],
   "source": [
    "#필요 컬럼만 추출하여 df 생성\n",
    "import pandas as pd\n",
    "region = [item.areanm.text for item in items]\n",
    "day = [item.daywkdivnm.text for item in items]\n",
    "type_v = [item.toudivnm.text for item in items]\n",
    "num_v = [item.tounum.text for item in items]\n",
    "ymd=[item.baseymd.text for item in items]\n",
    "\n",
    "\n",
    "\n",
    "# addr = [item.dutyaddr.text for item in items]\n",
    "# tel = [item.dutytel1.text for item in items]"
   ]
  },
  {
   "cell_type": "code",
   "execution_count": 21,
   "id": "559e71c7",
   "metadata": {},
   "outputs": [
    {
     "data": {
      "text/html": [
       "<div>\n",
       "<style scoped>\n",
       "    .dataframe tbody tr th:only-of-type {\n",
       "        vertical-align: middle;\n",
       "    }\n",
       "\n",
       "    .dataframe tbody tr th {\n",
       "        vertical-align: top;\n",
       "    }\n",
       "\n",
       "    .dataframe thead th {\n",
       "        text-align: right;\n",
       "    }\n",
       "</style>\n",
       "<table border=\"1\" class=\"dataframe\">\n",
       "  <thead>\n",
       "    <tr style=\"text-align: right;\">\n",
       "      <th></th>\n",
       "      <th>지역</th>\n",
       "      <th>요일</th>\n",
       "      <th>관광객_구분명</th>\n",
       "      <th>방문객_수</th>\n",
       "      <th>년월일</th>\n",
       "    </tr>\n",
       "  </thead>\n",
       "  <tbody>\n",
       "    <tr>\n",
       "      <th>0</th>\n",
       "      <td>서울특별시</td>\n",
       "      <td>수요일</td>\n",
       "      <td>현지인(a)</td>\n",
       "      <td>3895174.5</td>\n",
       "      <td>20200101</td>\n",
       "    </tr>\n",
       "    <tr>\n",
       "      <th>1</th>\n",
       "      <td>서울특별시</td>\n",
       "      <td>수요일</td>\n",
       "      <td>외지인(b)</td>\n",
       "      <td>1290688.0</td>\n",
       "      <td>20200101</td>\n",
       "    </tr>\n",
       "    <tr>\n",
       "      <th>2</th>\n",
       "      <td>서울특별시</td>\n",
       "      <td>수요일</td>\n",
       "      <td>외국인(c)</td>\n",
       "      <td>48461.60553021348</td>\n",
       "      <td>20200101</td>\n",
       "    </tr>\n",
       "    <tr>\n",
       "      <th>3</th>\n",
       "      <td>부산광역시</td>\n",
       "      <td>수요일</td>\n",
       "      <td>현지인(a)</td>\n",
       "      <td>1214132.5</td>\n",
       "      <td>20200101</td>\n",
       "    </tr>\n",
       "    <tr>\n",
       "      <th>4</th>\n",
       "      <td>부산광역시</td>\n",
       "      <td>수요일</td>\n",
       "      <td>외지인(b)</td>\n",
       "      <td>456970.5</td>\n",
       "      <td>20200101</td>\n",
       "    </tr>\n",
       "  </tbody>\n",
       "</table>\n",
       "</div>"
      ],
      "text/plain": [
       "      지역   요일 관광객_구분명              방문객_수       년월일\n",
       "0  서울특별시  수요일  현지인(a)          3895174.5  20200101\n",
       "1  서울특별시  수요일  외지인(b)          1290688.0  20200101\n",
       "2  서울특별시  수요일  외국인(c)  48461.60553021348  20200101\n",
       "3  부산광역시  수요일  현지인(a)          1214132.5  20200101\n",
       "4  부산광역시  수요일  외지인(b)           456970.5  20200101"
      ]
     },
     "execution_count": 21,
     "metadata": {},
     "output_type": "execute_result"
    }
   ],
   "source": [
    "df=pd.DataFrame({'지역':region,'요일':day,'관광객_구분명':type_v,'방문객_수':num_v,'년월일':ymd})\n",
    "df.head()"
   ]
  },
  {
   "cell_type": "code",
   "execution_count": 22,
   "id": "46413c44",
   "metadata": {},
   "outputs": [
    {
     "name": "stdout",
     "output_type": "stream",
     "text": [
      "<class 'pandas.core.frame.DataFrame'>\n",
      "RangeIndex: 18666 entries, 0 to 18665\n",
      "Data columns (total 5 columns):\n",
      " #   Column   Non-Null Count  Dtype \n",
      "---  ------   --------------  ----- \n",
      " 0   지역       18666 non-null  object\n",
      " 1   요일       18666 non-null  object\n",
      " 2   관광객_구분명  18666 non-null  object\n",
      " 3   방문객_수    18666 non-null  object\n",
      " 4   년월일      18666 non-null  object\n",
      "dtypes: object(5)\n",
      "memory usage: 729.3+ KB\n"
     ]
    }
   ],
   "source": [
    "df.info()"
   ]
  },
  {
   "cell_type": "code",
   "execution_count": 23,
   "id": "fa57ccb0",
   "metadata": {},
   "outputs": [
    {
     "data": {
      "text/html": [
       "<div>\n",
       "<style scoped>\n",
       "    .dataframe tbody tr th:only-of-type {\n",
       "        vertical-align: middle;\n",
       "    }\n",
       "\n",
       "    .dataframe tbody tr th {\n",
       "        vertical-align: top;\n",
       "    }\n",
       "\n",
       "    .dataframe thead th {\n",
       "        text-align: right;\n",
       "    }\n",
       "</style>\n",
       "<table border=\"1\" class=\"dataframe\">\n",
       "  <thead>\n",
       "    <tr style=\"text-align: right;\">\n",
       "      <th></th>\n",
       "      <th>지역</th>\n",
       "      <th>요일</th>\n",
       "      <th>관광객_구분명</th>\n",
       "      <th>방문객_수</th>\n",
       "      <th>년월일</th>\n",
       "    </tr>\n",
       "  </thead>\n",
       "  <tbody>\n",
       "    <tr>\n",
       "      <th>18661</th>\n",
       "      <td>경상남도</td>\n",
       "      <td>목요일</td>\n",
       "      <td>외지인(b)</td>\n",
       "      <td>419002.5</td>\n",
       "      <td>20201231</td>\n",
       "    </tr>\n",
       "    <tr>\n",
       "      <th>18662</th>\n",
       "      <td>경상남도</td>\n",
       "      <td>목요일</td>\n",
       "      <td>외국인(c)</td>\n",
       "      <td>1412.8631843873309</td>\n",
       "      <td>20201231</td>\n",
       "    </tr>\n",
       "    <tr>\n",
       "      <th>18663</th>\n",
       "      <td>제주특별자치도</td>\n",
       "      <td>목요일</td>\n",
       "      <td>현지인(a)</td>\n",
       "      <td>397383.0</td>\n",
       "      <td>20201231</td>\n",
       "    </tr>\n",
       "    <tr>\n",
       "      <th>18664</th>\n",
       "      <td>제주특별자치도</td>\n",
       "      <td>목요일</td>\n",
       "      <td>외지인(b)</td>\n",
       "      <td>110439.0</td>\n",
       "      <td>20201231</td>\n",
       "    </tr>\n",
       "    <tr>\n",
       "      <th>18665</th>\n",
       "      <td>제주특별자치도</td>\n",
       "      <td>목요일</td>\n",
       "      <td>외국인(c)</td>\n",
       "      <td>750.4617780661908</td>\n",
       "      <td>20201231</td>\n",
       "    </tr>\n",
       "  </tbody>\n",
       "</table>\n",
       "</div>"
      ],
      "text/plain": [
       "            지역   요일 관광객_구분명               방문객_수       년월일\n",
       "18661     경상남도  목요일  외지인(b)            419002.5  20201231\n",
       "18662     경상남도  목요일  외국인(c)  1412.8631843873309  20201231\n",
       "18663  제주특별자치도  목요일  현지인(a)            397383.0  20201231\n",
       "18664  제주특별자치도  목요일  외지인(b)            110439.0  20201231\n",
       "18665  제주특별자치도  목요일  외국인(c)   750.4617780661908  20201231"
      ]
     },
     "execution_count": 23,
     "metadata": {},
     "output_type": "execute_result"
    }
   ],
   "source": [
    "\n",
    "df.tail()"
   ]
  },
  {
   "cell_type": "code",
   "execution_count": 24,
   "id": "bdfcb728",
   "metadata": {},
   "outputs": [],
   "source": [
    "#서울, 경기도, 인천 데이터 필터링\n",
    "df2=df[(df['지역']=='서울특별시') | (df['지역']=='인천')| (df['지역']=='경기도')]"
   ]
  },
  {
   "cell_type": "code",
   "execution_count": 25,
   "id": "e0537306",
   "metadata": {},
   "outputs": [
    {
     "data": {
      "text/html": [
       "<div>\n",
       "<style scoped>\n",
       "    .dataframe tbody tr th:only-of-type {\n",
       "        vertical-align: middle;\n",
       "    }\n",
       "\n",
       "    .dataframe tbody tr th {\n",
       "        vertical-align: top;\n",
       "    }\n",
       "\n",
       "    .dataframe thead th {\n",
       "        text-align: right;\n",
       "    }\n",
       "</style>\n",
       "<table border=\"1\" class=\"dataframe\">\n",
       "  <thead>\n",
       "    <tr style=\"text-align: right;\">\n",
       "      <th></th>\n",
       "      <th>지역</th>\n",
       "      <th>요일</th>\n",
       "      <th>관광객_구분명</th>\n",
       "      <th>방문객_수</th>\n",
       "      <th>년월일</th>\n",
       "    </tr>\n",
       "  </thead>\n",
       "  <tbody>\n",
       "    <tr>\n",
       "      <th>18616</th>\n",
       "      <td>서울특별시</td>\n",
       "      <td>목요일</td>\n",
       "      <td>외지인(b)</td>\n",
       "      <td>1239710.5</td>\n",
       "      <td>20201231</td>\n",
       "    </tr>\n",
       "    <tr>\n",
       "      <th>18617</th>\n",
       "      <td>서울특별시</td>\n",
       "      <td>목요일</td>\n",
       "      <td>외국인(c)</td>\n",
       "      <td>2783.41660733784</td>\n",
       "      <td>20201231</td>\n",
       "    </tr>\n",
       "    <tr>\n",
       "      <th>18639</th>\n",
       "      <td>경기도</td>\n",
       "      <td>목요일</td>\n",
       "      <td>현지인(a)</td>\n",
       "      <td>5302073.0</td>\n",
       "      <td>20201231</td>\n",
       "    </tr>\n",
       "    <tr>\n",
       "      <th>18640</th>\n",
       "      <td>경기도</td>\n",
       "      <td>목요일</td>\n",
       "      <td>외지인(b)</td>\n",
       "      <td>1530032.0</td>\n",
       "      <td>20201231</td>\n",
       "    </tr>\n",
       "    <tr>\n",
       "      <th>18641</th>\n",
       "      <td>경기도</td>\n",
       "      <td>목요일</td>\n",
       "      <td>외국인(c)</td>\n",
       "      <td>3976.6872762107196</td>\n",
       "      <td>20201231</td>\n",
       "    </tr>\n",
       "  </tbody>\n",
       "</table>\n",
       "</div>"
      ],
      "text/plain": [
       "          지역   요일 관광객_구분명               방문객_수       년월일\n",
       "18616  서울특별시  목요일  외지인(b)           1239710.5  20201231\n",
       "18617  서울특별시  목요일  외국인(c)    2783.41660733784  20201231\n",
       "18639    경기도  목요일  현지인(a)           5302073.0  20201231\n",
       "18640    경기도  목요일  외지인(b)           1530032.0  20201231\n",
       "18641    경기도  목요일  외국인(c)  3976.6872762107196  20201231"
      ]
     },
     "execution_count": 25,
     "metadata": {},
     "output_type": "execute_result"
    }
   ],
   "source": [
    "df2.head()\n",
    "df2.tail()"
   ]
  },
  {
   "cell_type": "code",
   "execution_count": 26,
   "id": "5064fc7b",
   "metadata": {},
   "outputs": [],
   "source": [
    "#관광객 조건에 해당하는 방문객 데이터 필터링\n",
    "df2=df2[(df2['관광객_구분명']=='외지인(b)') | (df2['관광객_구분명']=='외국인(c)')]"
   ]
  },
  {
   "cell_type": "code",
   "execution_count": 27,
   "id": "512fb620",
   "metadata": {},
   "outputs": [
    {
     "data": {
      "text/html": [
       "<div>\n",
       "<style scoped>\n",
       "    .dataframe tbody tr th:only-of-type {\n",
       "        vertical-align: middle;\n",
       "    }\n",
       "\n",
       "    .dataframe tbody tr th {\n",
       "        vertical-align: top;\n",
       "    }\n",
       "\n",
       "    .dataframe thead th {\n",
       "        text-align: right;\n",
       "    }\n",
       "</style>\n",
       "<table border=\"1\" class=\"dataframe\">\n",
       "  <thead>\n",
       "    <tr style=\"text-align: right;\">\n",
       "      <th></th>\n",
       "      <th>지역</th>\n",
       "      <th>요일</th>\n",
       "      <th>관광객_구분명</th>\n",
       "      <th>방문객_수</th>\n",
       "      <th>년월일</th>\n",
       "    </tr>\n",
       "  </thead>\n",
       "  <tbody>\n",
       "    <tr>\n",
       "      <th>18590</th>\n",
       "      <td>경기도</td>\n",
       "      <td>수요일</td>\n",
       "      <td>외국인(c)</td>\n",
       "      <td>4216.9053454913865</td>\n",
       "      <td>20201230</td>\n",
       "    </tr>\n",
       "    <tr>\n",
       "      <th>18616</th>\n",
       "      <td>서울특별시</td>\n",
       "      <td>목요일</td>\n",
       "      <td>외지인(b)</td>\n",
       "      <td>1239710.5</td>\n",
       "      <td>20201231</td>\n",
       "    </tr>\n",
       "    <tr>\n",
       "      <th>18617</th>\n",
       "      <td>서울특별시</td>\n",
       "      <td>목요일</td>\n",
       "      <td>외국인(c)</td>\n",
       "      <td>2783.41660733784</td>\n",
       "      <td>20201231</td>\n",
       "    </tr>\n",
       "    <tr>\n",
       "      <th>18640</th>\n",
       "      <td>경기도</td>\n",
       "      <td>목요일</td>\n",
       "      <td>외지인(b)</td>\n",
       "      <td>1530032.0</td>\n",
       "      <td>20201231</td>\n",
       "    </tr>\n",
       "    <tr>\n",
       "      <th>18641</th>\n",
       "      <td>경기도</td>\n",
       "      <td>목요일</td>\n",
       "      <td>외국인(c)</td>\n",
       "      <td>3976.6872762107196</td>\n",
       "      <td>20201231</td>\n",
       "    </tr>\n",
       "  </tbody>\n",
       "</table>\n",
       "</div>"
      ],
      "text/plain": [
       "          지역   요일 관광객_구분명               방문객_수       년월일\n",
       "18590    경기도  수요일  외국인(c)  4216.9053454913865  20201230\n",
       "18616  서울특별시  목요일  외지인(b)           1239710.5  20201231\n",
       "18617  서울특별시  목요일  외국인(c)    2783.41660733784  20201231\n",
       "18640    경기도  목요일  외지인(b)           1530032.0  20201231\n",
       "18641    경기도  목요일  외국인(c)  3976.6872762107196  20201231"
      ]
     },
     "execution_count": 27,
     "metadata": {},
     "output_type": "execute_result"
    }
   ],
   "source": [
    "df2.head()\n",
    "df2.tail()"
   ]
  },
  {
   "cell_type": "code",
   "execution_count": 28,
   "id": "fb6e9de1",
   "metadata": {},
   "outputs": [
    {
     "data": {
      "text/html": [
       "<div>\n",
       "<style scoped>\n",
       "    .dataframe tbody tr th:only-of-type {\n",
       "        vertical-align: middle;\n",
       "    }\n",
       "\n",
       "    .dataframe tbody tr th {\n",
       "        vertical-align: top;\n",
       "    }\n",
       "\n",
       "    .dataframe thead th {\n",
       "        text-align: right;\n",
       "    }\n",
       "</style>\n",
       "<table border=\"1\" class=\"dataframe\">\n",
       "  <thead>\n",
       "    <tr style=\"text-align: right;\">\n",
       "      <th></th>\n",
       "      <th>지역</th>\n",
       "      <th>요일</th>\n",
       "      <th>관광객_구분명</th>\n",
       "      <th>방문객_수</th>\n",
       "      <th>년월일</th>\n",
       "    </tr>\n",
       "  </thead>\n",
       "  <tbody>\n",
       "    <tr>\n",
       "      <th>1</th>\n",
       "      <td>서울특별시</td>\n",
       "      <td>수요일</td>\n",
       "      <td>외지인(b)</td>\n",
       "      <td>1290688.0</td>\n",
       "      <td>20200101</td>\n",
       "    </tr>\n",
       "    <tr>\n",
       "      <th>2</th>\n",
       "      <td>서울특별시</td>\n",
       "      <td>수요일</td>\n",
       "      <td>외국인(c)</td>\n",
       "      <td>48461.60553021348</td>\n",
       "      <td>20200101</td>\n",
       "    </tr>\n",
       "    <tr>\n",
       "      <th>3</th>\n",
       "      <td>경기도</td>\n",
       "      <td>수요일</td>\n",
       "      <td>외지인(b)</td>\n",
       "      <td>1591572.5</td>\n",
       "      <td>20200101</td>\n",
       "    </tr>\n",
       "    <tr>\n",
       "      <th>4</th>\n",
       "      <td>경기도</td>\n",
       "      <td>수요일</td>\n",
       "      <td>외국인(c)</td>\n",
       "      <td>12475.95575836508</td>\n",
       "      <td>20200101</td>\n",
       "    </tr>\n",
       "    <tr>\n",
       "      <th>5</th>\n",
       "      <td>서울특별시</td>\n",
       "      <td>목요일</td>\n",
       "      <td>외지인(b)</td>\n",
       "      <td>1285672.5</td>\n",
       "      <td>20200102</td>\n",
       "    </tr>\n",
       "    <tr>\n",
       "      <th>...</th>\n",
       "      <td>...</td>\n",
       "      <td>...</td>\n",
       "      <td>...</td>\n",
       "      <td>...</td>\n",
       "      <td>...</td>\n",
       "    </tr>\n",
       "    <tr>\n",
       "      <th>724</th>\n",
       "      <td>경기도</td>\n",
       "      <td>월요일</td>\n",
       "      <td>외국인(c)</td>\n",
       "      <td>4123.987964922458</td>\n",
       "      <td>20200629</td>\n",
       "    </tr>\n",
       "    <tr>\n",
       "      <th>725</th>\n",
       "      <td>서울특별시</td>\n",
       "      <td>화요일</td>\n",
       "      <td>외지인(b)</td>\n",
       "      <td>1412887.0</td>\n",
       "      <td>20200630</td>\n",
       "    </tr>\n",
       "    <tr>\n",
       "      <th>726</th>\n",
       "      <td>서울특별시</td>\n",
       "      <td>화요일</td>\n",
       "      <td>외국인(c)</td>\n",
       "      <td>4305.193835668924</td>\n",
       "      <td>20200630</td>\n",
       "    </tr>\n",
       "    <tr>\n",
       "      <th>727</th>\n",
       "      <td>경기도</td>\n",
       "      <td>화요일</td>\n",
       "      <td>외지인(b)</td>\n",
       "      <td>1493705.5</td>\n",
       "      <td>20200630</td>\n",
       "    </tr>\n",
       "    <tr>\n",
       "      <th>728</th>\n",
       "      <td>경기도</td>\n",
       "      <td>화요일</td>\n",
       "      <td>외국인(c)</td>\n",
       "      <td>4233.128801391241</td>\n",
       "      <td>20200630</td>\n",
       "    </tr>\n",
       "  </tbody>\n",
       "</table>\n",
       "<p>728 rows × 5 columns</p>\n",
       "</div>"
      ],
      "text/plain": [
       "        지역   요일 관광객_구분명              방문객_수       년월일\n",
       "1    서울특별시  수요일  외지인(b)          1290688.0  20200101\n",
       "2    서울특별시  수요일  외국인(c)  48461.60553021348  20200101\n",
       "3      경기도  수요일  외지인(b)          1591572.5  20200101\n",
       "4      경기도  수요일  외국인(c)  12475.95575836508  20200101\n",
       "5    서울특별시  목요일  외지인(b)          1285672.5  20200102\n",
       "..     ...  ...     ...                ...       ...\n",
       "724    경기도  월요일  외국인(c)  4123.987964922458  20200629\n",
       "725  서울특별시  화요일  외지인(b)          1412887.0  20200630\n",
       "726  서울특별시  화요일  외국인(c)  4305.193835668924  20200630\n",
       "727    경기도  화요일  외지인(b)          1493705.5  20200630\n",
       "728    경기도  화요일  외국인(c)  4233.128801391241  20200630\n",
       "\n",
       "[728 rows x 5 columns]"
      ]
     },
     "execution_count": 28,
     "metadata": {},
     "output_type": "execute_result"
    }
   ],
   "source": [
    "#20200101-20200630, 20200701-20201231 두 날짜 사이값으로 파일 나눠서 저장하기-팀원들과 검증을 위해\n",
    "\n",
    "# df_2020_H1=df2.query(\"년월일>='20200101' and 년월일 <= '20200630'\") - text로 출력\n",
    "# df_2020_H1=df2.loc[df2[\"년월일\"].between('20200101','20200630')] - text로 출력\n",
    "\n",
    "Y2020_H1=(df2['년월일']>='20200101')&(df2['년월일']<='20200630') #True/False 로 반환\n",
    "Y2020_H1=df2.loc[Y2020_H1] #df로 변환\n",
    "Y2020_H1\n",
    "Y2020_H1.reset_index(drop=True,inplace=True) #기존 인덱스 버리기\n",
    "\n",
    "Y2020_H1.index+=1 #인덱스 1부터로 설정하기\n",
    "Y2020_H1"
   ]
  },
  {
   "cell_type": "code",
   "execution_count": 29,
   "id": "7d93b397",
   "metadata": {},
   "outputs": [
    {
     "data": {
      "text/html": [
       "<div>\n",
       "<style scoped>\n",
       "    .dataframe tbody tr th:only-of-type {\n",
       "        vertical-align: middle;\n",
       "    }\n",
       "\n",
       "    .dataframe tbody tr th {\n",
       "        vertical-align: top;\n",
       "    }\n",
       "\n",
       "    .dataframe thead th {\n",
       "        text-align: right;\n",
       "    }\n",
       "</style>\n",
       "<table border=\"1\" class=\"dataframe\">\n",
       "  <thead>\n",
       "    <tr style=\"text-align: right;\">\n",
       "      <th></th>\n",
       "      <th>지역</th>\n",
       "      <th>요일</th>\n",
       "      <th>관광객_구분명</th>\n",
       "      <th>방문객_수</th>\n",
       "      <th>년월일</th>\n",
       "    </tr>\n",
       "  </thead>\n",
       "  <tbody>\n",
       "    <tr>\n",
       "      <th>1</th>\n",
       "      <td>서울특별시</td>\n",
       "      <td>수요일</td>\n",
       "      <td>외지인(b)</td>\n",
       "      <td>1080663.5</td>\n",
       "      <td>20200701</td>\n",
       "    </tr>\n",
       "    <tr>\n",
       "      <th>2</th>\n",
       "      <td>서울특별시</td>\n",
       "      <td>수요일</td>\n",
       "      <td>외국인(c)</td>\n",
       "      <td>4350.232315958292</td>\n",
       "      <td>20200701</td>\n",
       "    </tr>\n",
       "    <tr>\n",
       "      <th>3</th>\n",
       "      <td>경기도</td>\n",
       "      <td>수요일</td>\n",
       "      <td>외지인(b)</td>\n",
       "      <td>1145189.5</td>\n",
       "      <td>20200701</td>\n",
       "    </tr>\n",
       "    <tr>\n",
       "      <th>4</th>\n",
       "      <td>경기도</td>\n",
       "      <td>수요일</td>\n",
       "      <td>외국인(c)</td>\n",
       "      <td>4107.641459921796</td>\n",
       "      <td>20200701</td>\n",
       "    </tr>\n",
       "    <tr>\n",
       "      <th>5</th>\n",
       "      <td>서울특별시</td>\n",
       "      <td>목요일</td>\n",
       "      <td>외지인(b)</td>\n",
       "      <td>1136317.0</td>\n",
       "      <td>20200702</td>\n",
       "    </tr>\n",
       "    <tr>\n",
       "      <th>...</th>\n",
       "      <td>...</td>\n",
       "      <td>...</td>\n",
       "      <td>...</td>\n",
       "      <td>...</td>\n",
       "      <td>...</td>\n",
       "    </tr>\n",
       "    <tr>\n",
       "      <th>732</th>\n",
       "      <td>경기도</td>\n",
       "      <td>수요일</td>\n",
       "      <td>외국인(c)</td>\n",
       "      <td>4216.9053454913865</td>\n",
       "      <td>20201230</td>\n",
       "    </tr>\n",
       "    <tr>\n",
       "      <th>733</th>\n",
       "      <td>서울특별시</td>\n",
       "      <td>목요일</td>\n",
       "      <td>외지인(b)</td>\n",
       "      <td>1239710.5</td>\n",
       "      <td>20201231</td>\n",
       "    </tr>\n",
       "    <tr>\n",
       "      <th>734</th>\n",
       "      <td>서울특별시</td>\n",
       "      <td>목요일</td>\n",
       "      <td>외국인(c)</td>\n",
       "      <td>2783.41660733784</td>\n",
       "      <td>20201231</td>\n",
       "    </tr>\n",
       "    <tr>\n",
       "      <th>735</th>\n",
       "      <td>경기도</td>\n",
       "      <td>목요일</td>\n",
       "      <td>외지인(b)</td>\n",
       "      <td>1530032.0</td>\n",
       "      <td>20201231</td>\n",
       "    </tr>\n",
       "    <tr>\n",
       "      <th>736</th>\n",
       "      <td>경기도</td>\n",
       "      <td>목요일</td>\n",
       "      <td>외국인(c)</td>\n",
       "      <td>3976.6872762107196</td>\n",
       "      <td>20201231</td>\n",
       "    </tr>\n",
       "  </tbody>\n",
       "</table>\n",
       "<p>736 rows × 5 columns</p>\n",
       "</div>"
      ],
      "text/plain": [
       "        지역   요일 관광객_구분명               방문객_수       년월일\n",
       "1    서울특별시  수요일  외지인(b)           1080663.5  20200701\n",
       "2    서울특별시  수요일  외국인(c)   4350.232315958292  20200701\n",
       "3      경기도  수요일  외지인(b)           1145189.5  20200701\n",
       "4      경기도  수요일  외국인(c)   4107.641459921796  20200701\n",
       "5    서울특별시  목요일  외지인(b)           1136317.0  20200702\n",
       "..     ...  ...     ...                 ...       ...\n",
       "732    경기도  수요일  외국인(c)  4216.9053454913865  20201230\n",
       "733  서울특별시  목요일  외지인(b)           1239710.5  20201231\n",
       "734  서울특별시  목요일  외국인(c)    2783.41660733784  20201231\n",
       "735    경기도  목요일  외지인(b)           1530032.0  20201231\n",
       "736    경기도  목요일  외국인(c)  3976.6872762107196  20201231\n",
       "\n",
       "[736 rows x 5 columns]"
      ]
     },
     "execution_count": 29,
     "metadata": {},
     "output_type": "execute_result"
    }
   ],
   "source": [
    "Y2020_H2=(df2['년월일']>='20200701')&(df2['년월일']<='20201231')\n",
    "Y2020_H2=df2.loc[Y2020_H2]\n",
    "Y2020_H2.reset_index(drop=True,inplace=True)\n",
    "\n",
    "Y2020_H2.index+=1 #인덱스 1부터로 설정하기\n",
    "Y2020_H2"
   ]
  },
  {
   "cell_type": "code",
   "execution_count": 31,
   "id": "1360da75",
   "metadata": {},
   "outputs": [],
   "source": [
    "Y2020_H1.to_csv('../crawl_data/관광데이터_광역_Y2020_H1.csv')\n",
    "Y2020_H2.to_csv('../crawl_data/관광데이터_광역_Y2020_H2.csv')"
   ]
  }
 ],
 "metadata": {
  "kernelspec": {
   "display_name": "Python 3.10.5 64-bit",
   "language": "python",
   "name": "python3"
  },
  "language_info": {
   "codemirror_mode": {
    "name": "ipython",
    "version": 3
   },
   "file_extension": ".py",
   "mimetype": "text/x-python",
   "name": "python",
   "nbconvert_exporter": "python",
   "pygments_lexer": "ipython3",
   "version": "3.10.5"
  },
  "vscode": {
   "interpreter": {
    "hash": "ba631fd18c6ba4f2745f674ee284c5c9aa26a46ab7315e6d5db064e0987f2c32"
   }
  }
 },
 "nbformat": 4,
 "nbformat_minor": 5
}
